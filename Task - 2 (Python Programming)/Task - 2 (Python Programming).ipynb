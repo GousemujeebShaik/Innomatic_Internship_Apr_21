{
 "cells": [
  {
   "cell_type": "markdown",
   "metadata": {},
   "source": [
    "# 1.Find the Runner-Up Score!\n",
    "\n",
    "\n",
    "    "
   ]
  },
  {
   "cell_type": "code",
   "execution_count": 6,
   "metadata": {},
   "outputs": [
    {
     "name": "stdout",
     "output_type": "stream",
     "text": [
      "4\n",
      "10 20 30 40\n",
      "30\n"
     ]
    }
   ],
   "source": [
    "n = int(input())\n",
    "arr = list(map(int, input().split()))\n",
    "arr1=set(arr)\n",
    "arr1.remove(max(arr1));\n",
    "print(max(arr1))"
   ]
  },
  {
   "cell_type": "markdown",
   "metadata": {},
   "source": [
    "# 2.Finding the percentage"
   ]
  },
  {
   "cell_type": "code",
   "execution_count": 3,
   "metadata": {},
   "outputs": [
    {
     "name": "stdout",
     "output_type": "stream",
     "text": [
      "3\n",
      "g 10 3 5\n",
      "gh 3 4 56\n",
      "w 1 2 3\n",
      "w\n",
      "2.00\n"
     ]
    }
   ],
   "source": [
    "n = int(input())\n",
    "student_marks = {}\n",
    "for _ in range(n):\n",
    "    name, *line = input().split()\n",
    "    scores = list(map(float, line))\n",
    "    student_marks[name] = scores\n",
    "query_name = input();\n",
    "marks = list(student_marks[query_name])\n",
    "print(\"{:.2f}\".format(sum(marks)/len(marks)));"
   ]
  },
  {
   "cell_type": "markdown",
   "metadata": {},
   "source": [
    "# 3.Nested Lists\n",
    "\n"
   ]
  },
  {
   "cell_type": "code",
   "execution_count": 4,
   "metadata": {},
   "outputs": [
    {
     "name": "stdout",
     "output_type": "stream",
     "text": [
      "3\n",
      "g\n",
      "10\n",
      "h\n",
      "9\n",
      "ty\n",
      "8\n",
      "h\n"
     ]
    }
   ],
   "source": [
    "stn ={}\n",
    "lst =[]\n",
    "lst1=[]\n",
    "for _ in range(int(input())):\n",
    "    name = input()\n",
    "    score = float(input())\n",
    "    lst.append(score)\n",
    "    stn[name]=score\n",
    "lst.sort()\n",
    "nwlst=set(lst)\n",
    "nwlst.remove(min(nwlst))\n",
    "mi = min(nwlst)\n",
    "for key, value in stn.items():\n",
    "    if value == mi:\n",
    "        lst1.append(key)\n",
    "lst1.sort()\n",
    "for i in lst1:\n",
    "        print(i)"
   ]
  },
  {
   "cell_type": "markdown",
   "metadata": {},
   "source": [
    "# 4.Lists\n",
    "\n"
   ]
  },
  {
   "cell_type": "markdown",
   "metadata": {},
   "source": [
    "N = int(input())\n",
    "lst= [];\n",
    "for i in range(N):\n",
    "    str = input();\n",
    "    lst1 = str.split(\" \");\n",
    "    if(lst1[0]==\"print\"):\n",
    "        print(lst)\n",
    "    elif(lst1[0]==\"insert\"):\n",
    "        lst.insert(int(lst1[1]),int(lst1[2]))\n",
    "    elif(lst1[0]==\"remove\"):\n",
    "        lst.remove(int(lst1[1]))\n",
    "    elif(lst1[0]==\"append\"):\n",
    "        lst.append(int(lst1[1]))\n",
    "    elif(lst1[0]==\"sort\"):\n",
    "        lst.sort();\n",
    "    elif(lst1[0]==\"pop\"):\n",
    "        lst.pop();\n",
    "    else:\n",
    "        lst.reverse()"
   ]
  },
  {
   "cell_type": "markdown",
   "metadata": {},
   "source": [
    "# 5.Tuples  "
   ]
  },
  {
   "cell_type": "code",
   "execution_count": 12,
   "metadata": {},
   "outputs": [
    {
     "name": "stdout",
     "output_type": "stream",
     "text": [
      "3\n",
      "1 2 3\n",
      "529344067295497451\n"
     ]
    }
   ],
   "source": [
    "n = int(input())\n",
    "integer_list = map(int, input().split())\n",
    "t= tuple(integer_list)\n",
    "print(hash(t))"
   ]
  },
  {
   "cell_type": "markdown",
   "metadata": {},
   "source": [
    "# 6.Introduction to Sets"
   ]
  },
  {
   "cell_type": "code",
   "execution_count": 13,
   "metadata": {},
   "outputs": [
    {
     "name": "stdout",
     "output_type": "stream",
     "text": [
      "3\n",
      "10 20 30\n",
      "20.0\n"
     ]
    }
   ],
   "source": [
    "def average(array):\n",
    "    # your code goes here\n",
    "    set1 = set(arr)\n",
    "    return (sum(set1)/len(set1))\n",
    "\n",
    "if __name__ == '__main__':\n",
    "    n = int(input())\n",
    "    arr = list(map(int, input().split()))\n",
    "    result = average(arr)\n",
    "    print(result)"
   ]
  },
  {
   "cell_type": "markdown",
   "metadata": {},
   "source": [
    "# 7. The Captain's Room"
   ]
  },
  {
   "cell_type": "code",
   "execution_count": 14,
   "metadata": {},
   "outputs": [
    {
     "name": "stdout",
     "output_type": "stream",
     "text": [
      "2\n",
      "1 1 2 2 3\n",
      "3\n"
     ]
    }
   ],
   "source": [
    "n = int(input())\n",
    "arr = list(map(int, input().split()))\n",
    "s=set()\n",
    "t=set()\n",
    "for i in arr:\n",
    "    if i not in s:\n",
    "        s.add(i)\n",
    "        t.add(i)\n",
    "    else:\n",
    "        t.discard(i)\n",
    "print(t.pop())"
   ]
  },
  {
   "cell_type": "markdown",
   "metadata": {},
   "source": [
    "# 8. Check Strict Superset"
   ]
  },
  {
   "cell_type": "code",
   "execution_count": 16,
   "metadata": {},
   "outputs": [
    {
     "name": "stdout",
     "output_type": "stream",
     "text": [
      "1 2 3 4\n",
      "1\n",
      "2 3\n",
      "True\n"
     ]
    }
   ],
   "source": [
    "a=set(map(int, input().split()))\n",
    "n=int(input())\n",
    "result = True\n",
    "for i in range(n):\n",
    "    b=set(map(int, input().split()))\n",
    "    if len(b.difference(a))!=0: \n",
    "        result = False\n",
    "    else:\n",
    "        if len(b)==len(a):\n",
    "            result = False\n",
    "print(result)"
   ]
  },
  {
   "cell_type": "markdown",
   "metadata": {},
   "source": [
    "# 9. Symmetric Difference"
   ]
  },
  {
   "cell_type": "code",
   "execution_count": 17,
   "metadata": {},
   "outputs": [
    {
     "name": "stdout",
     "output_type": "stream",
     "text": [
      "4\n",
      "1 2 3 4\n",
      "4\n",
      "1 2 3 4\n",
      "\n"
     ]
    }
   ],
   "source": [
    "M = int(input())\n",
    "A = set(map(int,input().split()))\n",
    "N = int(input())\n",
    "B = set(map(int,input().split()))\n",
    "list1 = list(A.symmetric_difference(B))\n",
    "list1.sort()\n",
    "print(*list1, sep = \"\\n\")"
   ]
  },
  {
   "cell_type": "markdown",
   "metadata": {},
   "source": [
    "# 10. SubSet"
   ]
  },
  {
   "cell_type": "code",
   "execution_count": 18,
   "metadata": {},
   "outputs": [
    {
     "name": "stdout",
     "output_type": "stream",
     "text": [
      "1\n",
      "2\n",
      "1 2\n",
      "4\n",
      "1 2 3 4\n",
      "True\n"
     ]
    }
   ],
   "source": [
    "t= int(input())\n",
    "for i in range(t):\n",
    "    result = False\n",
    "    m = int(input())\n",
    "    A = set(map(int,input().split()))\n",
    "    n = int(input())\n",
    "    B = set(map(int,input().split()))\n",
    "    if(A.issubset(B)):\n",
    "        result= True\n",
    "    print (result)"
   ]
  },
  {
   "cell_type": "markdown",
   "metadata": {},
   "source": [
    "# 11. Set .add()"
   ]
  },
  {
   "cell_type": "code",
   "execution_count": 20,
   "metadata": {},
   "outputs": [
    {
     "name": "stdout",
     "output_type": "stream",
     "text": [
      "2\n",
      "UK\n",
      "UK\n",
      "1\n"
     ]
    }
   ],
   "source": [
    "n = int(input())\n",
    "set1=set()\n",
    "for i in range(n):\n",
    "    s= input()\n",
    "    if(s not in set1):\n",
    "        set1.add(s)\n",
    "print(len(set1))"
   ]
  },
  {
   "cell_type": "markdown",
   "metadata": {},
   "source": [
    "# 12. Union"
   ]
  },
  {
   "cell_type": "code",
   "execution_count": 21,
   "metadata": {},
   "outputs": [
    {
     "name": "stdout",
     "output_type": "stream",
     "text": [
      "2\n",
      "1 2\n",
      "2\n",
      "3 4\n",
      "4\n"
     ]
    }
   ],
   "source": [
    "M = int(input())\n",
    "A = set(map(int,input().split()))\n",
    "N = int(input())\n",
    "B = set(map(int,input().split()))\n",
    "list1 = list(A.union(B))\n",
    "print(len(list1))"
   ]
  },
  {
   "cell_type": "markdown",
   "metadata": {},
   "source": [
    "# 13. Intersection"
   ]
  },
  {
   "cell_type": "code",
   "execution_count": 22,
   "metadata": {},
   "outputs": [
    {
     "name": "stdout",
     "output_type": "stream",
     "text": [
      "2\n",
      "12 23\n",
      "5\n",
      "1 2 12 3 5\n",
      "1\n"
     ]
    }
   ],
   "source": [
    "M = int(input())\n",
    "A = set(map(int,input().split()))\n",
    "N = int(input())\n",
    "B = set(map(int,input().split()))\n",
    "list1 = list(A.intersection(B))\n",
    "print(len(list1))"
   ]
  },
  {
   "cell_type": "markdown",
   "metadata": {},
   "source": [
    "# 14. Symmetric Difference Students prblm"
   ]
  },
  {
   "cell_type": "code",
   "execution_count": 23,
   "metadata": {},
   "outputs": [
    {
     "name": "stdout",
     "output_type": "stream",
     "text": [
      "2\n",
      "4 3\n",
      "4\n",
      "1 2 3 6\n",
      "4\n"
     ]
    }
   ],
   "source": [
    "M = int(input())\n",
    "A = set(map(int,input().split()))\n",
    "N = int(input())\n",
    "B = set(map(int,input().split()))\n",
    "list1 = list(A.symmetric_difference(B))\n",
    "print(len(list1))"
   ]
  },
  {
   "cell_type": "markdown",
   "metadata": {},
   "source": [
    "# 15. Set Difference Students Prblm"
   ]
  },
  {
   "cell_type": "code",
   "execution_count": 24,
   "metadata": {},
   "outputs": [
    {
     "name": "stdout",
     "output_type": "stream",
     "text": [
      "4\n",
      "1 2 3 4\n",
      "3\n",
      "3 4 5\n",
      "2\n"
     ]
    }
   ],
   "source": [
    "M = int(input())\n",
    "A = set(map(int,input().split()))\n",
    "N = int(input())\n",
    "B = set(map(int,input().split()))\n",
    "list1 = list(A.difference(B))\n",
    "print(len(list1))"
   ]
  },
  {
   "cell_type": "markdown",
   "metadata": {},
   "source": [
    "# 16. Set Mutation"
   ]
  },
  {
   "cell_type": "code",
   "execution_count": 25,
   "metadata": {},
   "outputs": [
    {
     "name": "stdout",
     "output_type": "stream",
     "text": [
      "4\n",
      "1 2 3 4\n",
      "1\n",
      "update\n",
      "12 2\n",
      "22\n"
     ]
    }
   ],
   "source": [
    "N = int(input())\n",
    "A = set(map(int,input().split()))\n",
    "K = int(input())\n",
    "for i in range(K):\n",
    "    str1 = input();\n",
    "    lst1 = str1.split(\" \")\n",
    "    B = set(map(int,input().split()))\n",
    "    if(lst1[0]==\"intersection_update\"):\n",
    "        A.intersection_update(B)\n",
    "    elif(lst1[0]==\"update\"):\n",
    "        A.update(B)\n",
    "    elif(lst1[0]==\"symmetric_difference_update\"):\n",
    "        A.symmetric_difference_update(B)\n",
    "    else:\n",
    "        A.difference_update(B)\n",
    "print(sum(A))"
   ]
  },
  {
   "cell_type": "markdown",
   "metadata": {},
   "source": [
    "# 17. Set .discard(), .remove() & .pop()"
   ]
  },
  {
   "cell_type": "code",
   "execution_count": 26,
   "metadata": {},
   "outputs": [
    {
     "name": "stdout",
     "output_type": "stream",
     "text": [
      "4\n",
      "1 2 3 4\n",
      "1\n",
      "remove 1\n",
      "9\n"
     ]
    }
   ],
   "source": [
    "N = int(input())\n",
    "A = set(map(int,input().split()))\n",
    "K = int(input())\n",
    "for i in range(K):\n",
    "    str1 = input();\n",
    "    lst1 = str1.split(\" \")\n",
    "   \n",
    "    if(lst1[0]==\"remove\"):\n",
    "        A.remove(int(lst1[1]))\n",
    "    elif(lst1[0]==\"pop\"):\n",
    "        A.pop()\n",
    "    elif(lst1[0]==\"discard\"):\n",
    "        A.discard(int(lst1[1]))\n",
    "    else:\n",
    "       pass\n",
    "print(sum(A))"
   ]
  },
  {
   "cell_type": "markdown",
   "metadata": {},
   "source": [
    "# 18. No Idea"
   ]
  },
  {
   "cell_type": "code",
   "execution_count": 29,
   "metadata": {},
   "outputs": [
    {
     "name": "stdout",
     "output_type": "stream",
     "text": [
      "1 3\n",
      "1 2 3 4\n",
      "1 2\n",
      "3 4\n",
      "0\n"
     ]
    }
   ],
   "source": [
    "n,m= map(int,input().split())\n",
    "narray = list(map(int,input().split()))\n",
    "happ=set(map(int,input().split()))\n",
    "sad=set(map(int,input().split()))\n",
    "t= set();\n",
    "sum1=0\n",
    "for i in narray:\n",
    "    #print(i)\n",
    "    if((i in happ)):\n",
    "        sum1=sum1+1;\n",
    "            \n",
    "    elif((i in sad)):\n",
    "        sum1=sum1-1;\n",
    "            \n",
    "    else:\n",
    "        pass\n",
    "print(sum1)"
   ]
  },
  {
   "cell_type": "markdown",
   "metadata": {},
   "source": [
    "# 19. List Comprehensions"
   ]
  },
  {
   "cell_type": "code",
   "execution_count": 30,
   "metadata": {},
   "outputs": [
    {
     "name": "stdout",
     "output_type": "stream",
     "text": [
      "2\n",
      "2\n",
      "2\n",
      "2\n",
      "[[0, 0, 0], [0, 0, 1], [0, 1, 0], [0, 1, 2], [0, 2, 1], [0, 2, 2], [1, 0, 0], [1, 0, 2], [1, 1, 1], [1, 1, 2], [1, 2, 0], [1, 2, 1], [1, 2, 2], [2, 0, 1], [2, 0, 2], [2, 1, 0], [2, 1, 1], [2, 1, 2], [2, 2, 0], [2, 2, 1], [2, 2, 2]]\n"
     ]
    }
   ],
   "source": [
    "if __name__ == '__main__':\n",
    "    x = int(input())\n",
    "    y = int(input())\n",
    "    z = int(input())\n",
    "    n = int(input())\n",
    "    print ([[a,b,c] for a in range(0,x+1) for b in range(0,y+1) for c in range(0,z+1) if a + b + c != n ])"
   ]
  },
  {
   "cell_type": "code",
   "execution_count": null,
   "metadata": {},
   "outputs": [],
   "source": []
  }
 ],
 "metadata": {
  "kernelspec": {
   "display_name": "Python 3",
   "language": "python",
   "name": "python3"
  },
  "language_info": {
   "codemirror_mode": {
    "name": "ipython",
    "version": 3
   },
   "file_extension": ".py",
   "mimetype": "text/x-python",
   "name": "python",
   "nbconvert_exporter": "python",
   "pygments_lexer": "ipython3",
   "version": "3.8.3"
  }
 },
 "nbformat": 4,
 "nbformat_minor": 4
}
