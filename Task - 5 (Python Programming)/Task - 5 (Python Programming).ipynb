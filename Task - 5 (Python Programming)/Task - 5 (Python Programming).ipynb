{
 "cells": [
  {
   "cell_type": "markdown",
   "metadata": {},
   "source": [
    "# 1.Detect Floating Point Number"
   ]
  },
  {
   "cell_type": "code",
   "execution_count": 2,
   "metadata": {},
   "outputs": [
    {
     "name": "stdout",
     "output_type": "stream",
     "text": [
      "2\n",
      "5.0\n",
      "True\n",
      "-0\n",
      "False\n"
     ]
    }
   ],
   "source": [
    "# Enter your code here. Read input from STDIN. Print output to STDOUT\n",
    "import re\n",
    "t = int(input())\n",
    "while(t):\n",
    "    t =t-1\n",
    "    target = input()\n",
    "    patten=\"^[-+]?\\d*\\.\\d+$\"\n",
    "    match = re.match(patten,target)\n",
    "    if(match):\n",
    "        print(\"True\")\n",
    "    else:\n",
    "        print(\"False\")"
   ]
  },
  {
   "cell_type": "markdown",
   "metadata": {},
   "source": [
    "# 2. Re.split()\n",
    "\n"
   ]
  },
  {
   "cell_type": "code",
   "execution_count": 3,
   "metadata": {},
   "outputs": [
    {
     "name": "stdout",
     "output_type": "stream",
     "text": [
      "123.345.566\n",
      "123\n",
      "345\n",
      "566\n"
     ]
    }
   ],
   "source": [
    "regex_pattern = r\"\\D\"\t# Do not delete 'r'.\n",
    "\n",
    "import re\n",
    "print(\"\\n\".join(re.split(regex_pattern, input())))"
   ]
  },
  {
   "cell_type": "markdown",
   "metadata": {},
   "source": [
    "# 3.Group(), Groups() & Groupdict()\n",
    "\n"
   ]
  },
  {
   "cell_type": "code",
   "execution_count": 5,
   "metadata": {},
   "outputs": [
    {
     "name": "stdout",
     "output_type": "stream",
     "text": [
      "..123`2231\n",
      "2\n"
     ]
    }
   ],
   "source": [
    "import re \n",
    "target =input()\n",
    "m = re.findall(r\"([A-Za-z0-9])\\1+\",target)\n",
    "if(m):\n",
    "    print(m[0])\n",
    "else:\n",
    "    print(\"-1\")"
   ]
  },
  {
   "cell_type": "markdown",
   "metadata": {},
   "source": [
    "# 4.Re.findall() & Re.finditer()"
   ]
  },
  {
   "cell_type": "code",
   "execution_count": 6,
   "metadata": {},
   "outputs": [
    {
     "name": "stdout",
     "output_type": "stream",
     "text": [
      "baeerzeet\n",
      "aee\n",
      "ee\n"
     ]
    }
   ],
   "source": [
    "import re \n",
    "target = input();\n",
    "c='[qwrtypsdfghjklzxcvbnm]'\n",
    "v='[aeiou]'\n",
    "regex = r'(?<='+c+')('+v+'{2,})(?='+c+')';\n",
    "m = re.findall(regex,target,re.I);\n",
    "print(\"\\n\".join(m) if m else -1);"
   ]
  },
  {
   "cell_type": "markdown",
   "metadata": {},
   "source": [
    "# 5.Re.start() & Re.end()\n",
    "\n"
   ]
  },
  {
   "cell_type": "code",
   "execution_count": 7,
   "metadata": {},
   "outputs": [
    {
     "name": "stdout",
     "output_type": "stream",
     "text": [
      "aaabaaanaaa\n",
      "aaa\n",
      "(0, 2)\n",
      "(4, 6)\n",
      "(8, 10)\n"
     ]
    }
   ],
   "source": [
    "target = input()\n",
    "regex = input()\n",
    "import re\n",
    "pattern = re.compile(regex)\n",
    "r = pattern.search(target)\n",
    "if not r: print(\"(-1, -1)\")\n",
    "while r:\n",
    "    print(\"({0}, {1})\".format(r.start(), r.end() - 1))\n",
    "    r = pattern.search(target,r.start() + 1)"
   ]
  },
  {
   "cell_type": "markdown",
   "metadata": {},
   "source": [
    "# 6.Regex Substitution"
   ]
  },
  {
   "cell_type": "code",
   "execution_count": 13,
   "metadata": {},
   "outputs": [
    {
     "name": "stdout",
     "output_type": "stream",
     "text": [
      "1\n",
      "11 a = 1; b = input();  if a + b > 0 && a - b < 0:     start() elif a*b > 10 || a/b < 1:     stop() print set(list(a)) | set(list(b))  #Note do not change &&& or ||| or & or | #Only change those '&&' which have space on both sides. #Only change those '|| which have space on both sides.\n",
      "11 a = 1; b = input();  if a + b > 0 and a - b < 0:     start() elif a*b > 10 or a/b < 1:     stop() print set(list(a)) | set(list(b))  #Note do not change &&& or ||| or & or | #Only change those '&&' which have space on both sides. #Only change those '|| which have space on both sides.\n"
     ]
    }
   ],
   "source": [
    "import re\n",
    "print('\\n'.join(re.sub(R'(?<= )(&&|\\|\\|)(?= )', lambda x: 'and' if x.group()=='&&' else 'or', input()) for _ in range(int(input().strip()))))"
   ]
  },
  {
   "cell_type": "markdown",
   "metadata": {},
   "source": [
    "# 7.Validating Roman Numerals"
   ]
  },
  {
   "cell_type": "code",
   "execution_count": 14,
   "metadata": {},
   "outputs": [
    {
     "name": "stdout",
     "output_type": "stream",
     "text": [
      "CDXXI\n",
      "True\n"
     ]
    }
   ],
   "source": [
    "regex_pattern = r\"^M{0,3}(CM|CD|D?C{0,3})(XC|XL|L?X{0,3})(IX|IV|V?I{0,3})$\"\t# Do not delete 'r'.\n",
    "import re\n",
    "print(str(bool(re.match(regex_pattern, input()))))"
   ]
  },
  {
   "cell_type": "markdown",
   "metadata": {},
   "source": [
    "# 8.Validating phone numbers"
   ]
  },
  {
   "cell_type": "code",
   "execution_count": 15,
   "metadata": {},
   "outputs": [
    {
     "name": "stdout",
     "output_type": "stream",
     "text": [
      "1\n",
      "3455\n",
      "NO\n"
     ]
    }
   ],
   "source": [
    "import re\n",
    "t=int(input())\n",
    "while(t):\n",
    "    t=t-1;\n",
    "    if re.match(r'[789]\\d{9}$',input()):   \n",
    "        print (\"YES\")  \n",
    "    else:  \n",
    "        print (\"NO\")  \n"
   ]
  },
  {
   "cell_type": "markdown",
   "metadata": {},
   "source": [
    "# 9. Validating and Parsing Email Addresses"
   ]
  },
  {
   "cell_type": "code",
   "execution_count": 18,
   "metadata": {},
   "outputs": [
    {
     "name": "stdout",
     "output_type": "stream",
     "text": [
      "2\n",
      "DEXTER <dexter@hotmail.com>\n",
      "DEXTER <dexter@hotmail.com>\n",
      "VIRUS <virus!@variable.:p>\n"
     ]
    }
   ],
   "source": [
    "import re\n",
    "t = int(input())\n",
    "while(t):\n",
    "    t=t-1;\n",
    "    x, y = input().split(' ')\n",
    "    m = re.match(r'<[A-Za-z](\\w|-|\\.|_)+@[A-Za-z]+\\.[A-Za-z]{1,3}>', y)\n",
    "    if m:\n",
    "        print(x,y)"
   ]
  },
  {
   "cell_type": "markdown",
   "metadata": {},
   "source": [
    "# 10.Hex Color Code"
   ]
  },
  {
   "cell_type": "code",
   "execution_count": 11,
   "metadata": {},
   "outputs": [
    {
     "name": "stdout",
     "output_type": "stream",
     "text": [
      "11\n",
      "#BED\n",
      "{\n",
      "    color: #FfFdF8; background-color:#aef;\n",
      "#FfFdF8\n",
      "#aef\n",
      "font-size: 123px;\n",
      "background: -webkit-linear-gradient(top, #f9f9f9, #fff);\n",
      "#f9f9f9\n",
      "#fff\n",
      "}\n",
      "#Cab\n",
      "{\n",
      "background-color: #ABC;\n",
      "#ABC\n",
      " border: 2px dashed #fff;\n",
      "#fff\n",
      "}\n"
     ]
    }
   ],
   "source": [
    "import re\n",
    "t=int(input())\n",
    "\n",
    "while(t):\n",
    "    t=t-1\n",
    "    s=input()\n",
    "\n",
    "    x=s.split()\n",
    "\n",
    "    if len(x)>1  and  '{' not in x:\n",
    "        x=re.findall(r'#[a-fA-F0-9]{3,6}',s)\n",
    "        [print(i) for  i in x]"
   ]
  },
  {
   "cell_type": "markdown",
   "metadata": {},
   "source": [
    "# 11.HTML Parser - Part 1"
   ]
  },
  {
   "cell_type": "code",
   "execution_count": 1,
   "metadata": {},
   "outputs": [
    {
     "name": "stdout",
     "output_type": "stream",
     "text": [
      "2\n",
      "<html><head><title>HTML Parser - I</title></head>\n",
      "<body data-modal-target class='1'><h1>HackerRank</h1><br /></body></html>\n",
      "Start : html\n",
      "Start : head\n",
      "Start : title\n",
      "End   : title\n",
      "End   : head\n",
      "Start : body\n",
      "-> data-modal-target > None\n",
      "-> class > 1\n",
      "Start : h1\n",
      "End   : h1\n",
      "Empty : br\n",
      "End   : body\n",
      "End   : html\n"
     ]
    }
   ],
   "source": [
    "from html.parser import HTMLParser\n",
    "class MyHTMLParser(HTMLParser):\n",
    "    def handle_starttag(self, tag, attrs):        \n",
    "        print ('Start :',tag)\n",
    "        for ele in attrs:\n",
    "            print ('->',ele[0],'>',ele[1])\n",
    "            \n",
    "    def handle_endtag(self, tag):\n",
    "        print ('End   :',tag)\n",
    "        \n",
    "    def handle_startendtag(self, tag, attrs):\n",
    "        print ('Empty :',tag)\n",
    "        for ele in attrs:\n",
    "            print ('->',ele[0],'>',ele[1])\n",
    "            \n",
    "MyParser = MyHTMLParser()\n",
    "MyParser.feed(''.join([input().strip() for _ in range(int(input()))]))"
   ]
  },
  {
   "cell_type": "markdown",
   "metadata": {},
   "source": [
    "# 12. HTML Parser - Part 2"
   ]
  },
  {
   "cell_type": "code",
   "execution_count": 2,
   "metadata": {},
   "outputs": [
    {
     "name": "stdout",
     "output_type": "stream",
     "text": [
      "4\n",
      "<!--[if IE 9]>IE9-specific content\n",
      "\n",
      "<div> Welcome to HackerRank</div>\n",
      "<!--[if IE 9]>IE9-specific content<![endif]-->\n",
      ">>> Multi-line Comment\n",
      "[if IE 9]>IE9-specific content\n",
      "\n",
      "<div> Welcome to HackerRank</div>\n",
      "<!--[if IE 9]>IE9-specific content<![endif]\n"
     ]
    }
   ],
   "source": [
    "from html.parser import HTMLParser\n",
    "html = \"\"\n",
    "class MyHTMLParser(HTMLParser):\n",
    "    def handle_comment(self,data):\n",
    "        if('\\n' in data):\n",
    "            print(\">>> Multi-line Comment\")\n",
    "        else:\n",
    "            print(\">>> Single-line Comment\")\n",
    "        print(data)\n",
    "    def handle_data(self,data):\n",
    "        if(data != '\\n'):\n",
    "            print(\">>> Data\")\n",
    "            print(data)\n",
    "             \n",
    "for i in range(int(input())):\n",
    "    html += input().rstrip()\n",
    "    html += '\\n'\n",
    "#print(html)    \n",
    "parser = MyHTMLParser()\n",
    "parser.feed(html)\n",
    "parser.close()\n"
   ]
  },
  {
   "cell_type": "markdown",
   "metadata": {},
   "source": [
    "# 13.Detect HTML Tags, Attributes and Attribute Values"
   ]
  },
  {
   "cell_type": "code",
   "execution_count": 4,
   "metadata": {},
   "outputs": [
    {
     "name": "stdout",
     "output_type": "stream",
     "text": [
      "9\n",
      "<head>\n",
      "<title>HTML</title>\n",
      "</head>\n",
      "<object type=\"application/x-flash\" \n",
      "data=\"your-file.swf\" \n",
      "width=\"0\" height=\"0\">\n",
      "<!-- <param name=\"movie\" value=\"your-file.swf\" /> -->\n",
      "<param name=\"quality\" value=\"high\"/>\n",
      "</object>\n",
      "head\n",
      "title\n",
      "object\n",
      "-> type > application/x-flash\n",
      "-> data > your-file.swf\n",
      "-> width > 0\n",
      "-> height > 0\n",
      "param\n",
      "-> name > quality\n",
      "-> value > high\n"
     ]
    }
   ],
   "source": [
    "from html.parser import HTMLParser\n",
    "class MyHTMLParser(HTMLParser):\n",
    "    def handle_starttag(self, tag, attrs):\n",
    "        print(tag)\n",
    "        [print('-> {} > {}'.format(*attr)) for attr in attrs]\n",
    "        \n",
    "html = '\\n'.join([input() for _ in range(int(input()))])\n",
    "parser = MyHTMLParser()\n",
    "parser.feed(html)\n",
    "parser.close()"
   ]
  },
  {
   "cell_type": "markdown",
   "metadata": {},
   "source": [
    "# 14.Validating UID"
   ]
  },
  {
   "cell_type": "code",
   "execution_count": 5,
   "metadata": {},
   "outputs": [
    {
     "name": "stdout",
     "output_type": "stream",
     "text": [
      "1\n",
      "B1CD102354\n",
      "Invalid\n"
     ]
    }
   ],
   "source": [
    "import re\n",
    "\n",
    "for _ in range(int(input())):\n",
    "    u = ''.join(sorted(input()))\n",
    "    try:\n",
    "        assert re.search(r'[A-Z]{2}', u)\n",
    "        assert re.search(r'\\d\\d\\d', u)\n",
    "        assert not re.search(r'[^a-zA-Z0-9]', u)\n",
    "        assert not re.search(r'(.)\\1', u)\n",
    "        assert len(u) == 10\n",
    "    except:\n",
    "        print('Invalid')\n",
    "    else:\n",
    "        print('Valid')"
   ]
  },
  {
   "cell_type": "markdown",
   "metadata": {},
   "source": [
    "# 15.Validating Credit Card Numbers"
   ]
  },
  {
   "cell_type": "code",
   "execution_count": 6,
   "metadata": {},
   "outputs": [
    {
     "name": "stdout",
     "output_type": "stream",
     "text": [
      "6\n",
      "4123456789123456\n",
      "Valid\n",
      "5123-4567-8912-3456\n",
      "Valid\n",
      "61234-567-8912-3456\n",
      "Invalid\n",
      "61234-567-8912-3456\n",
      "Invalid\n",
      "61234-567-8912-3456\n",
      "Invalid\n",
      "61234-567-8912-3456\n",
      "Invalid\n"
     ]
    }
   ],
   "source": [
    "import re\n",
    "Samp = re.compile(\n",
    "    r\"^\"\n",
    "    r\"(?!.*(\\d)(-?\\1){3})\"\n",
    "    r\"[456]\"\n",
    "    r\"\\d{3}\"\n",
    "    r\"(?:-?\\d{4}){3}\"\n",
    "    r\"$\")\n",
    "for _ in range(int(input().strip())):\n",
    "    print(\"Valid\" if Samp.search(input().strip()) else \"Invalid\")"
   ]
  },
  {
   "cell_type": "markdown",
   "metadata": {},
   "source": [
    "# 16.Validating Postal Codes"
   ]
  },
  {
   "cell_type": "code",
   "execution_count": 8,
   "metadata": {},
   "outputs": [
    {
     "name": "stdout",
     "output_type": "stream",
     "text": [
      "520012\n",
      "True\n"
     ]
    }
   ],
   "source": [
    "regex_integer_in_range = r\"^[1-9][\\d]{5}$\"    # Do not delete 'r'.\n",
    "regex_alternating_repetitive_digit_pair = r\"(\\d)(?=\\d\\1)\"    # Do not delete 'r'.\n",
    "\n",
    "\n",
    "import re\n",
    "P = input()\n",
    "\n",
    "print (bool(re.match(regex_integer_in_range, P)) \n",
    "and len(re.findall(regex_alternating_repetitive_digit_pair, P)) < 2)"
   ]
  },
  {
   "cell_type": "markdown",
   "metadata": {},
   "source": [
    "# 17. Matrix Script"
   ]
  },
  {
   "cell_type": "code",
   "execution_count": 10,
   "metadata": {},
   "outputs": [
    {
     "name": "stdout",
     "output_type": "stream",
     "text": [
      "7 3\n",
      "Tsi\n",
      "h%x\n",
      "i #\n",
      "sM \n",
      "$a \n",
      "#t%\n",
      "ir!\n",
      "This is Matrix#  %!\n"
     ]
    }
   ],
   "source": [
    "\n",
    "import math\n",
    "import os\n",
    "import random\n",
    "import re\n",
    "import sys\n",
    "\n",
    "\n",
    "\n",
    "\n",
    "\n",
    "first_multiple_input = input().rstrip().split()\n",
    "\n",
    "n = int(first_multiple_input[0])\n",
    "\n",
    "m = int(first_multiple_input[1])\n",
    "\n",
    "matrix = []\n",
    "\n",
    "for _ in range(n):\n",
    "    matrix_item = input()\n",
    "    matrix.append(matrix_item)\n",
    "\n",
    "encoded_string = \"\".join([matrix[j][i] for i in range(m) for j in range(n)])\n",
    "pat = r'(?<=[a-zA-Z0-9])[^a-zA-Z0-9]+(?=[a-zA-Z0-9])'\n",
    "print(re.sub(pat,' ',encoded_string))"
   ]
  },
  {
   "cell_type": "code",
   "execution_count": null,
   "metadata": {},
   "outputs": [],
   "source": []
  }
 ],
 "metadata": {
  "kernelspec": {
   "display_name": "Python 3",
   "language": "python",
   "name": "python3"
  },
  "language_info": {
   "codemirror_mode": {
    "name": "ipython",
    "version": 3
   },
   "file_extension": ".py",
   "mimetype": "text/x-python",
   "name": "python",
   "nbconvert_exporter": "python",
   "pygments_lexer": "ipython3",
   "version": "3.8.3"
  }
 },
 "nbformat": 4,
 "nbformat_minor": 4
}
